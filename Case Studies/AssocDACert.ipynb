{
 "cells": [
  {
   "cell_type": "markdown",
   "id": "0c8e84f1-6efb-44af-9f9a-56cc86568c3c",
   "metadata": {
    "tags": []
   },
   "source": [
    "# **Case Study: Increase Coffee Cups Sales**"
   ]
  },
  {
   "cell_type": "markdown",
   "id": "39e6cece-43b0-451f-bc3a-67664ccf19e0",
   "metadata": {
    "tags": []
   },
   "source": [
    "## *Importing and Exploring Raw Data*"
   ]
  },
  {
   "cell_type": "code",
   "execution_count": 73,
   "id": "3e2c9c08-a52d-449f-8435-5288a9c738e3",
   "metadata": {
    "tags": []
   },
   "outputs": [
    {
     "data": {
      "text/html": [
       "<div>\n",
       "<style scoped>\n",
       "    .dataframe tbody tr th:only-of-type {\n",
       "        vertical-align: middle;\n",
       "    }\n",
       "\n",
       "    .dataframe tbody tr th {\n",
       "        vertical-align: top;\n",
       "    }\n",
       "\n",
       "    .dataframe thead th {\n",
       "        text-align: right;\n",
       "    }\n",
       "</style>\n",
       "<table border=\"1\" class=\"dataframe\">\n",
       "  <thead>\n",
       "    <tr style=\"text-align: right;\">\n",
       "      <th></th>\n",
       "      <th>Region</th>\n",
       "      <th>Place_name</th>\n",
       "      <th>Place_type</th>\n",
       "      <th>Rating</th>\n",
       "      <th>Reviews</th>\n",
       "      <th>Price</th>\n",
       "      <th>Delivery_option</th>\n",
       "      <th>Dine_in_option</th>\n",
       "      <th>Takeout_option</th>\n",
       "    </tr>\n",
       "  </thead>\n",
       "  <tbody>\n",
       "    <tr>\n",
       "      <th>0</th>\n",
       "      <td>C</td>\n",
       "      <td>Dim Kavu</td>\n",
       "      <td>Others</td>\n",
       "      <td>4.6</td>\n",
       "      <td>206.0</td>\n",
       "      <td>$$</td>\n",
       "      <td>False</td>\n",
       "      <td>NaN</td>\n",
       "      <td>NaN</td>\n",
       "    </tr>\n",
       "    <tr>\n",
       "      <th>1</th>\n",
       "      <td>C</td>\n",
       "      <td>Коферум</td>\n",
       "      <td>Cafe</td>\n",
       "      <td>5.0</td>\n",
       "      <td>24.0</td>\n",
       "      <td>$$</td>\n",
       "      <td>False</td>\n",
       "      <td>NaN</td>\n",
       "      <td>True</td>\n",
       "    </tr>\n",
       "    <tr>\n",
       "      <th>2</th>\n",
       "      <td>C</td>\n",
       "      <td>Кофейня Світ Чаю</td>\n",
       "      <td>Coffee shop</td>\n",
       "      <td>5.0</td>\n",
       "      <td>11.0</td>\n",
       "      <td>$$</td>\n",
       "      <td>False</td>\n",
       "      <td>NaN</td>\n",
       "      <td>True</td>\n",
       "    </tr>\n",
       "    <tr>\n",
       "      <th>3</th>\n",
       "      <td>C</td>\n",
       "      <td>Кофейня Starcoff</td>\n",
       "      <td>Coffee shop</td>\n",
       "      <td>4.4</td>\n",
       "      <td>331.0</td>\n",
       "      <td>$$</td>\n",
       "      <td>False</td>\n",
       "      <td>True</td>\n",
       "      <td>True</td>\n",
       "    </tr>\n",
       "    <tr>\n",
       "      <th>4</th>\n",
       "      <td>C</td>\n",
       "      <td>Кофейня \"Friend Zone\"</td>\n",
       "      <td>Coffee shop</td>\n",
       "      <td>5.0</td>\n",
       "      <td>12.0</td>\n",
       "      <td>$$</td>\n",
       "      <td>False</td>\n",
       "      <td>True</td>\n",
       "      <td>True</td>\n",
       "    </tr>\n",
       "  </tbody>\n",
       "</table>\n",
       "</div>"
      ],
      "text/plain": [
       "  Region             Place_name   Place_type  Rating  Reviews Price  \\\n",
       "0      C               Dim Kavu       Others     4.6    206.0    $$   \n",
       "1      C                Коферум         Cafe     5.0     24.0    $$   \n",
       "2      C       Кофейня Світ Чаю  Coffee shop     5.0     11.0    $$   \n",
       "3      C       Кофейня Starcoff  Coffee shop     4.4    331.0    $$   \n",
       "4      C  Кофейня \"Friend Zone\"  Coffee shop     5.0     12.0    $$   \n",
       "\n",
       "   Delivery_option Dine_in_option Takeout_option  \n",
       "0            False            NaN            NaN  \n",
       "1            False            NaN           True  \n",
       "2            False            NaN           True  \n",
       "3            False           True           True  \n",
       "4            False           True           True  "
      ]
     },
     "metadata": {},
     "output_type": "display_data"
    },
    {
     "name": "stdout",
     "output_type": "stream",
     "text": [
      "(200, 9)\n",
      "<class 'pandas.core.frame.DataFrame'>\n",
      "RangeIndex: 200 entries, 0 to 199\n",
      "Data columns (total 9 columns):\n",
      " #   Column           Non-Null Count  Dtype  \n",
      "---  ------           --------------  -----  \n",
      " 0   Region           200 non-null    object \n",
      " 1   Place_name       200 non-null    object \n",
      " 2   Place_type       200 non-null    object \n",
      " 3   Rating           198 non-null    float64\n",
      " 4   Reviews          198 non-null    float64\n",
      " 5   Price            200 non-null    object \n",
      " 6   Delivery_option  200 non-null    bool   \n",
      " 7   Dine_in_option   140 non-null    object \n",
      " 8   Takeout_option   144 non-null    object \n",
      "dtypes: bool(1), float64(2), object(6)\n",
      "memory usage: 12.8+ KB\n",
      "None\n",
      "           Rating       Reviews\n",
      "count  198.000000    198.000000\n",
      "mean     4.663636    622.494949\n",
      "std      0.221648   1400.898666\n",
      "min      3.900000      3.000000\n",
      "25%      4.600000     47.500000\n",
      "50%      4.700000    271.500000\n",
      "75%      4.800000    786.250000\n",
      "max      5.000000  17937.000000\n"
     ]
    },
    {
     "data": {
      "text/plain": [
       "Region              0\n",
       "Place_name          0\n",
       "Place_type          0\n",
       "Rating              2\n",
       "Reviews             2\n",
       "Price               0\n",
       "Delivery_option     0\n",
       "Dine_in_option     60\n",
       "Takeout_option     56\n",
       "dtype: int64"
      ]
     },
     "execution_count": 73,
     "metadata": {},
     "output_type": "execute_result"
    }
   ],
   "source": [
    "import pandas as pd\n",
    "import matplotlib.pyplot as plt\n",
    "coffee = pd.read_csv('https://s3.amazonaws.com/talent-assets.datacamp.com/coffee.csv')\n",
    "coffee.columns = coffee.columns.str.replace(' ', '_')\n",
    "display(coffee.head())\n",
    "print(coffee.shape)\n",
    "print(coffee.info()) \n",
    "print(coffee.describe())\n",
    "coffee.isna().sum()"
   ]
  },
  {
   "cell_type": "markdown",
   "id": "0bda14bd-531c-44c1-95c8-274749275de2",
   "metadata": {
    "tags": []
   },
   "source": [
    "## *Data Cleaning Workflow*\n",
    "- There are unneeded columns we can remove that do not affect our analysis.\n",
    "- There are 2 shops that have null values for **Reviews** and **Ratings** we need to look at.\n",
    "- Addressing outliers within **Reviews** to get a better calculation of summary statistics. \n",
    "- There are no duplicated rows within this dataset"
   ]
  },
  {
   "cell_type": "markdown",
   "id": "e2d48844-e5a1-49a4-b5fc-29687122f5b9",
   "metadata": {},
   "source": [
    "### **Dropping Columns**\n",
    "- Removing columns (Delivery_option, Dine_in_option, Takeout_option) since they have no immediate affect on our analysis for **Reviews** for different coffee seller locations. "
   ]
  },
  {
   "cell_type": "code",
   "execution_count": 74,
   "id": "43184ca4-1441-471b-a225-008bc4c76a40",
   "metadata": {},
   "outputs": [],
   "source": [
    "coffee = coffee.drop(columns=['Delivery_option', 'Dine_in_option', 'Takeout_option'])"
   ]
  },
  {
   "cell_type": "markdown",
   "id": "1a446257-112d-43ed-8c8f-cbb0371c2bd5",
   "metadata": {
    "tags": []
   },
   "source": [
    "### **Capping Outliers**\n",
    "\n",
    "- Outliers will be calculated and capped using the IQR since the distribution of **Reviews** is skewed right. "
   ]
  },
  {
   "cell_type": "code",
   "execution_count": 75,
   "id": "6540d7af-2504-475a-bda0-02c13a475793",
   "metadata": {},
   "outputs": [
    {
     "data": {
      "text/plain": [
       "<AxesSubplot:ylabel='Frequency'>"
      ]
     },
     "execution_count": 75,
     "metadata": {},
     "output_type": "execute_result"
    },
    {
     "data": {
      "image/png": "[encoded data removed]",
      "text/plain": [
       "<Figure size 432x288 with 1 Axes>"
      ]
     },
     "metadata": {},
     "output_type": "display_data"
    }
   ],
   "source": [
    "coffee['Reviews'].plot(kind='hist',bins=100)"
   ]
  },
  {
   "cell_type": "code",
   "execution_count": 76,
   "id": "8f31f1e6-1c49-46ce-8591-ff48a4167a20",
   "metadata": {},
   "outputs": [],
   "source": [
    "import numpy as np\n",
    "percentile25 = coffee['Reviews'].quantile(0.25)\n",
    "percentile75 = coffee['Reviews'].quantile(0.75)\n",
    "iqr = percentile75 - percentile25\n",
    "upper_limit = percentile75 + 1.5 * iqr\n",
    "lower_limit = percentile25 - 1.5 * iqr\n",
    "coffee_clean = coffee.copy()\n",
    "coffee_clean['Reviews'] = np.where(\n",
    "    coffee_clean['Reviews'] > upper_limit,\n",
    "    upper_limit,\n",
    "    np.where(\n",
    "        coffee_clean['Reviews'] < lower_limit,\n",
    "        lower_limit,\n",
    "        coffee_clean['Reviews']\n",
    "    )\n",
    ")"
   ]
  },
  {
   "cell_type": "markdown",
   "id": "ec12e94d-7032-4ebb-961e-fb6d4d637767",
   "metadata": {},
   "source": [
    "### **Imputing NaN values**\n",
    "- Examine minimum and maximum values for **Reviews** as well as looking at rows where **Reviews** and **Rating** are empty.\n",
    "- Using the groupby function to fill the missing values in **Reviews** and **Rating** by agggregating in regards to the mean based on (Place_type, Region, Price)"
   ]
  },
  {
   "cell_type": "code",
   "execution_count": 86,
   "id": "60648d38-086a-4e1a-9acf-16efae639c39",
   "metadata": {
    "tags": []
   },
   "outputs": [
    {
     "data": {
      "text/html": [
       "<div>\n",
       "<style scoped>\n",
       "    .dataframe tbody tr th:only-of-type {\n",
       "        vertical-align: middle;\n",
       "    }\n",
       "\n",
       "    .dataframe tbody tr th {\n",
       "        vertical-align: top;\n",
       "    }\n",
       "\n",
       "    .dataframe thead th {\n",
       "        text-align: right;\n",
       "    }\n",
       "</style>\n",
       "<table border=\"1\" class=\"dataframe\">\n",
       "  <thead>\n",
       "    <tr style=\"text-align: right;\">\n",
       "      <th></th>\n",
       "      <th>Region</th>\n",
       "      <th>Place_name</th>\n",
       "      <th>Place_type</th>\n",
       "      <th>Rating</th>\n",
       "      <th>Reviews</th>\n",
       "      <th>Price</th>\n",
       "    </tr>\n",
       "  </thead>\n",
       "  <tbody>\n",
       "    <tr>\n",
       "      <th>100</th>\n",
       "      <td>E</td>\n",
       "      <td>Lviv Coffee Manufacture</td>\n",
       "      <td>Coffee shop</td>\n",
       "      <td>4.7</td>\n",
       "      <td>17937.0</td>\n",
       "      <td>$$</td>\n",
       "    </tr>\n",
       "  </tbody>\n",
       "</table>\n",
       "</div>"
      ],
      "text/plain": [
       "    Region               Place_name   Place_type  Rating  Reviews Price\n",
       "100      E  Lviv Coffee Manufacture  Coffee shop     4.7  17937.0    $$"
      ]
     },
     "metadata": {},
     "output_type": "display_data"
    },
    {
     "data": {
      "text/html": [
       "<div>\n",
       "<style scoped>\n",
       "    .dataframe tbody tr th:only-of-type {\n",
       "        vertical-align: middle;\n",
       "    }\n",
       "\n",
       "    .dataframe tbody tr th {\n",
       "        vertical-align: top;\n",
       "    }\n",
       "\n",
       "    .dataframe thead th {\n",
       "        text-align: right;\n",
       "    }\n",
       "</style>\n",
       "<table border=\"1\" class=\"dataframe\">\n",
       "  <thead>\n",
       "    <tr style=\"text-align: right;\">\n",
       "      <th></th>\n",
       "      <th>Region</th>\n",
       "      <th>Place_name</th>\n",
       "      <th>Place_type</th>\n",
       "      <th>Rating</th>\n",
       "      <th>Reviews</th>\n",
       "      <th>Price</th>\n",
       "    </tr>\n",
       "  </thead>\n",
       "  <tbody>\n",
       "    <tr>\n",
       "      <th>170</th>\n",
       "      <td>I</td>\n",
       "      <td>Dom Kofe, Mah.</td>\n",
       "      <td>Coffee shop</td>\n",
       "      <td>4.3</td>\n",
       "      <td>3.0</td>\n",
       "      <td>$$</td>\n",
       "    </tr>\n",
       "  </tbody>\n",
       "</table>\n",
       "</div>"
      ],
      "text/plain": [
       "    Region      Place_name   Place_type  Rating  Reviews Price\n",
       "170      I  Dom Kofe, Mah.  Coffee shop     4.3      3.0    $$"
      ]
     },
     "metadata": {},
     "output_type": "display_data"
    },
    {
     "data": {
      "text/html": [
       "<div>\n",
       "<style scoped>\n",
       "    .dataframe tbody tr th:only-of-type {\n",
       "        vertical-align: middle;\n",
       "    }\n",
       "\n",
       "    .dataframe tbody tr th {\n",
       "        vertical-align: top;\n",
       "    }\n",
       "\n",
       "    .dataframe thead th {\n",
       "        text-align: right;\n",
       "    }\n",
       "</style>\n",
       "<table border=\"1\" class=\"dataframe\">\n",
       "  <thead>\n",
       "    <tr style=\"text-align: right;\">\n",
       "      <th></th>\n",
       "      <th>Region</th>\n",
       "      <th>Place_name</th>\n",
       "      <th>Place_type</th>\n",
       "      <th>Rating</th>\n",
       "      <th>Reviews</th>\n",
       "      <th>Price</th>\n",
       "    </tr>\n",
       "  </thead>\n",
       "  <tbody>\n",
       "    <tr>\n",
       "      <th>49</th>\n",
       "      <td>F</td>\n",
       "      <td>Кофе В Херсоне</td>\n",
       "      <td>Cafe</td>\n",
       "      <td>NaN</td>\n",
       "      <td>NaN</td>\n",
       "      <td>$$</td>\n",
       "    </tr>\n",
       "    <tr>\n",
       "      <th>186</th>\n",
       "      <td>H</td>\n",
       "      <td>Coffee&amp;Cake, Game zone PS4</td>\n",
       "      <td>Coffee shop</td>\n",
       "      <td>NaN</td>\n",
       "      <td>NaN</td>\n",
       "      <td>$$</td>\n",
       "    </tr>\n",
       "  </tbody>\n",
       "</table>\n",
       "</div>"
      ],
      "text/plain": [
       "    Region                  Place_name   Place_type  Rating  Reviews Price\n",
       "49       F              Кофе В Херсоне         Cafe     NaN      NaN    $$\n",
       "186      H  Coffee&Cake, Game zone PS4  Coffee shop     NaN      NaN    $$"
      ]
     },
     "metadata": {},
     "output_type": "display_data"
    }
   ],
   "source": [
    "display(coffee[coffee.Reviews == coffee.Reviews.max()])\n",
    "display(coffee[coffee.Reviews == coffee.Reviews.min()])\n",
    "display(coffee[(coffee.Rating.isnull())|(coffee.Reviews.isnull())])"
   ]
  },
  {
   "cell_type": "code",
   "execution_count": 9,
   "id": "275cd831-2617-4bb3-bbe1-91320e967f49",
   "metadata": {},
   "outputs": [
    {
     "data": {
      "text/html": [
       "<div>\n",
       "<style scoped>\n",
       "    .dataframe tbody tr th:only-of-type {\n",
       "        vertical-align: middle;\n",
       "    }\n",
       "\n",
       "    .dataframe tbody tr th {\n",
       "        vertical-align: top;\n",
       "    }\n",
       "\n",
       "    .dataframe thead th {\n",
       "        text-align: right;\n",
       "    }\n",
       "</style>\n",
       "<table border=\"1\" class=\"dataframe\">\n",
       "  <thead>\n",
       "    <tr style=\"text-align: right;\">\n",
       "      <th></th>\n",
       "      <th>Rating</th>\n",
       "      <th>Reviews</th>\n",
       "    </tr>\n",
       "  </thead>\n",
       "  <tbody>\n",
       "    <tr>\n",
       "      <th>count</th>\n",
       "      <td>200.000000</td>\n",
       "      <td>200.000000</td>\n",
       "    </tr>\n",
       "    <tr>\n",
       "      <th>mean</th>\n",
       "      <td>4.663667</td>\n",
       "      <td>515.063958</td>\n",
       "    </tr>\n",
       "    <tr>\n",
       "      <th>std</th>\n",
       "      <td>0.220557</td>\n",
       "      <td>583.071119</td>\n",
       "    </tr>\n",
       "    <tr>\n",
       "      <th>min</th>\n",
       "      <td>3.900000</td>\n",
       "      <td>3.000000</td>\n",
       "    </tr>\n",
       "    <tr>\n",
       "      <th>25%</th>\n",
       "      <td>4.600000</td>\n",
       "      <td>48.500000</td>\n",
       "    </tr>\n",
       "    <tr>\n",
       "      <th>50%</th>\n",
       "      <td>4.700000</td>\n",
       "      <td>277.000000</td>\n",
       "    </tr>\n",
       "    <tr>\n",
       "      <th>75%</th>\n",
       "      <td>4.800000</td>\n",
       "      <td>793.250000</td>\n",
       "    </tr>\n",
       "    <tr>\n",
       "      <th>max</th>\n",
       "      <td>5.000000</td>\n",
       "      <td>1894.375000</td>\n",
       "    </tr>\n",
       "  </tbody>\n",
       "</table>\n",
       "</div>"
      ],
      "text/plain": [
       "           Rating      Reviews\n",
       "count  200.000000   200.000000\n",
       "mean     4.663667   515.063958\n",
       "std      0.220557   583.071119\n",
       "min      3.900000     3.000000\n",
       "25%      4.600000    48.500000\n",
       "50%      4.700000   277.000000\n",
       "75%      4.800000   793.250000\n",
       "max      5.000000  1894.375000"
      ]
     },
     "execution_count": 9,
     "metadata": {},
     "output_type": "execute_result"
    }
   ],
   "source": [
    "coffee_clean[\"Rating\"] = coffee_clean.groupby(['Place_type','Region','Price'])['Rating'].transform(lambda x: x.fillna(x.mean()))\n",
    "coffee_clean[\"Reviews\"] = coffee_clean.groupby(['Place_type','Region','Price'])['Reviews'].transform(lambda x: x.fillna(x.mean()))\n",
    "coffee_clean.describe()\n"
   ]
  },
  {
   "cell_type": "markdown",
   "id": "7fad9651-98e6-4793-a729-bce45b55bca1",
   "metadata": {},
   "source": [
    "### **Duplicated Observations**\n",
    "- The duplicated values for **Place_name** show differences in region and place type so there is no need to remove these observations."
   ]
  },
  {
   "cell_type": "code",
   "execution_count": 87,
   "id": "b4a161c7-3a68-4143-ad03-70a65e4bcefc",
   "metadata": {},
   "outputs": [
    {
     "data": {
      "text/html": [
       "<div>\n",
       "<style scoped>\n",
       "    .dataframe tbody tr th:only-of-type {\n",
       "        vertical-align: middle;\n",
       "    }\n",
       "\n",
       "    .dataframe tbody tr th {\n",
       "        vertical-align: top;\n",
       "    }\n",
       "\n",
       "    .dataframe thead th {\n",
       "        text-align: right;\n",
       "    }\n",
       "</style>\n",
       "<table border=\"1\" class=\"dataframe\">\n",
       "  <thead>\n",
       "    <tr style=\"text-align: right;\">\n",
       "      <th></th>\n",
       "      <th>Region</th>\n",
       "      <th>Place_name</th>\n",
       "      <th>Place_type</th>\n",
       "      <th>Rating</th>\n",
       "      <th>Reviews</th>\n",
       "      <th>Price</th>\n",
       "    </tr>\n",
       "  </thead>\n",
       "  <tbody>\n",
       "    <tr>\n",
       "      <th>68</th>\n",
       "      <td>B</td>\n",
       "      <td>Coffee House</td>\n",
       "      <td>Others</td>\n",
       "      <td>4.7</td>\n",
       "      <td>132.0</td>\n",
       "      <td>$$</td>\n",
       "    </tr>\n",
       "    <tr>\n",
       "      <th>97</th>\n",
       "      <td>A</td>\n",
       "      <td>MY COFFEE</td>\n",
       "      <td>Coffee shop</td>\n",
       "      <td>4.8</td>\n",
       "      <td>150.0</td>\n",
       "      <td>$$</td>\n",
       "    </tr>\n",
       "    <tr>\n",
       "      <th>107</th>\n",
       "      <td>E</td>\n",
       "      <td>Svit Kavy</td>\n",
       "      <td>Coffee shop</td>\n",
       "      <td>4.3</td>\n",
       "      <td>102.0</td>\n",
       "      <td>$$</td>\n",
       "    </tr>\n",
       "    <tr>\n",
       "      <th>108</th>\n",
       "      <td>E</td>\n",
       "      <td>Lviv Coffee Manufacture</td>\n",
       "      <td>Coffee shop</td>\n",
       "      <td>4.5</td>\n",
       "      <td>778.0</td>\n",
       "      <td>$$</td>\n",
       "    </tr>\n",
       "    <tr>\n",
       "      <th>112</th>\n",
       "      <td>E</td>\n",
       "      <td>coffee House</td>\n",
       "      <td>Coffee shop</td>\n",
       "      <td>4.7</td>\n",
       "      <td>363.0</td>\n",
       "      <td>$$</td>\n",
       "    </tr>\n",
       "    <tr>\n",
       "      <th>132</th>\n",
       "      <td>D</td>\n",
       "      <td>SV Кафе</td>\n",
       "      <td>Cafe</td>\n",
       "      <td>4.6</td>\n",
       "      <td>740.0</td>\n",
       "      <td>$$</td>\n",
       "    </tr>\n",
       "    <tr>\n",
       "      <th>154</th>\n",
       "      <td>G</td>\n",
       "      <td>Kaffa</td>\n",
       "      <td>Espresso bar</td>\n",
       "      <td>4.8</td>\n",
       "      <td>824.0</td>\n",
       "      <td>$$</td>\n",
       "    </tr>\n",
       "    <tr>\n",
       "      <th>161</th>\n",
       "      <td>I</td>\n",
       "      <td>Coffee House</td>\n",
       "      <td>Espresso bar</td>\n",
       "      <td>4.5</td>\n",
       "      <td>268.0</td>\n",
       "      <td>$$</td>\n",
       "    </tr>\n",
       "    <tr>\n",
       "      <th>167</th>\n",
       "      <td>I</td>\n",
       "      <td>coffee House</td>\n",
       "      <td>Cafe</td>\n",
       "      <td>4.6</td>\n",
       "      <td>96.0</td>\n",
       "      <td>$$</td>\n",
       "    </tr>\n",
       "    <tr>\n",
       "      <th>171</th>\n",
       "      <td>I</td>\n",
       "      <td>Dim Kavy</td>\n",
       "      <td>Espresso bar</td>\n",
       "      <td>4.7</td>\n",
       "      <td>185.0</td>\n",
       "      <td>$$</td>\n",
       "    </tr>\n",
       "    <tr>\n",
       "      <th>172</th>\n",
       "      <td>I</td>\n",
       "      <td>Dim Kavy</td>\n",
       "      <td>Others</td>\n",
       "      <td>4.7</td>\n",
       "      <td>222.0</td>\n",
       "      <td>$$</td>\n",
       "    </tr>\n",
       "    <tr>\n",
       "      <th>173</th>\n",
       "      <td>I</td>\n",
       "      <td>Sweeter</td>\n",
       "      <td>Coffee shop</td>\n",
       "      <td>4.6</td>\n",
       "      <td>289.0</td>\n",
       "      <td>$$</td>\n",
       "    </tr>\n",
       "    <tr>\n",
       "      <th>181</th>\n",
       "      <td>H</td>\n",
       "      <td>Dim Kavy</td>\n",
       "      <td>Others</td>\n",
       "      <td>4.9</td>\n",
       "      <td>39.0</td>\n",
       "      <td>$$</td>\n",
       "    </tr>\n",
       "  </tbody>\n",
       "</table>\n",
       "</div>"
      ],
      "text/plain": [
       "    Region               Place_name    Place_type  Rating  Reviews Price\n",
       "68       B             Coffee House        Others     4.7    132.0    $$\n",
       "97       A                MY COFFEE   Coffee shop     4.8    150.0    $$\n",
       "107      E                Svit Kavy   Coffee shop     4.3    102.0    $$\n",
       "108      E  Lviv Coffee Manufacture   Coffee shop     4.5    778.0    $$\n",
       "112      E             coffee House   Coffee shop     4.7    363.0    $$\n",
       "132      D                  SV Кафе          Cafe     4.6    740.0    $$\n",
       "154      G                    Kaffa  Espresso bar     4.8    824.0    $$\n",
       "161      I             Coffee House  Espresso bar     4.5    268.0    $$\n",
       "167      I             coffee House          Cafe     4.6     96.0    $$\n",
       "171      I                 Dim Kavy  Espresso bar     4.7    185.0    $$\n",
       "172      I                 Dim Kavy        Others     4.7    222.0    $$\n",
       "173      I                  Sweeter   Coffee shop     4.6    289.0    $$\n",
       "181      H                 Dim Kavy        Others     4.9     39.0    $$"
      ]
     },
     "execution_count": 87,
     "metadata": {},
     "output_type": "execute_result"
    }
   ],
   "source": [
    "coffee_clean[coffee_clean['Place_name'].duplicated()]\n"
   ]
  },
  {
   "cell_type": "markdown",
   "id": "c2c51f6b-915e-4843-978d-00de7d39aba6",
   "metadata": {
    "tags": []
   },
   "source": [
    "## *Data Exploration and Visualization*"
   ]
  },
  {
   "cell_type": "code",
   "execution_count": 203,
   "id": "9c063563-83cc-4754-98cf-45302e647166",
   "metadata": {
    "tags": []
   },
   "outputs": [
    {
     "data": {
      "text/plain": [
       "array(['Others', 'Cafe', 'Coffee shop', 'Espresso bar'], dtype=object)"
      ]
     },
     "execution_count": 203,
     "metadata": {},
     "output_type": "execute_result"
    }
   ],
   "source": [
    "coffee.Place_type.unique()"
   ]
  },
  {
   "cell_type": "code",
   "execution_count": null,
   "id": "99c8bb30-05df-4d47-87dd-9b71d62666e9",
   "metadata": {},
   "outputs": [
    {
     "data": {
      "text/plain": [
       "Coffee shop     97\n",
       "Cafe            58\n",
       "Others          25\n",
       "Espresso bar    20\n",
       "Name: Place_type, dtype: int64"
      ]
     },
     "execution_count": 43,
     "metadata": {},
     "output_type": "execute_result"
    }
   ],
   "source": [
    "coffee.Place_type.value_counts()"
   ]
  },
  {
   "cell_type": "code",
   "execution_count": 12,
   "id": "f5baa9d6-72a5-4047-80f8-d1f47a8ba42b",
   "metadata": {},
   "outputs": [
    {
     "data": {
      "text/plain": [
       "Text(0.5, 1.0, 'Greatest Types of Coffee Locations')"
      ]
     },
     "execution_count": 12,
     "metadata": {},
     "output_type": "execute_result"
    },
    {
     "data": {
      "image/png": "[encoded data removed]",
      "text/plain": [
       "<Figure size 432x288 with 1 Axes>"
      ]
     },
     "metadata": {},
     "output_type": "display_data"
    }
   ],
   "source": [
    "import matplotlib.pyplot as plt\n",
    "plt.style.use('fivethirtyeight')\n",
    "coffee_clean.Place_type.value_counts(ascending=True).plot(kind='barh')\n",
    "plt.ylabel('Counts')\n",
    "plt.xlabel('Types of Coffee Locations')\n",
    "plt.title('Greatest Types of Coffee Locations')"
   ]
  },
  {
   "cell_type": "markdown",
   "id": "5fa6f811-5459-4a98-9ee0-04389fbcd92f",
   "metadata": {},
   "source": [
    "The marketing team should focus on coffee shops since they have the highest number of locations. Another consideration would be choosing cafe's since they represent more tahn half of the coffee shops. "
   ]
  },
  {
   "cell_type": "code",
   "execution_count": 100,
   "id": "21d6e27f-3c6f-4d59-8d78-6630480e2b4c",
   "metadata": {},
   "outputs": [
    {
     "data": {
      "text/plain": [
       "Text(0.5, 1.0, 'Range of Reviews Across Shops')"
      ]
     },
     "execution_count": 100,
     "metadata": {},
     "output_type": "execute_result"
    },
    {
     "data": {
      "image/png": "[encoded data removed]",
      "text/plain": [
       "<Figure size 432x288 with 1 Axes>"
      ]
     },
     "metadata": {},
     "output_type": "display_data"
    }
   ],
   "source": [
    "coffee_clean['Reviews'].plot(kind='hist', bins=20)\n",
    "plt.ylabel('Counts')\n",
    "plt.xlabel('Number of Reviews')\n",
    "plt.title('Range of Reviews Across Shops')"
   ]
  },
  {
   "cell_type": "markdown",
   "id": "60e32680-7fa7-4f07-b5e6-c422ef23235c",
   "metadata": {},
   "source": [
    "The marketing team should focus on Shops where the reviews are greater than the 75 percentile value of 793, while focusing on shops with higher amount of reviews. It may be nesscary for the marketing team to go as low as the mean for the amount of reviews (515). This will depend on how many shops the marketing team want to partner with. "
   ]
  },
  {
   "cell_type": "code",
   "execution_count": 131,
   "id": "40f60f83-487d-4e94-804e-f440e5dea45d",
   "metadata": {},
   "outputs": [
    {
     "data": {
      "text/plain": [
       "Text(0, 0.5, 'Number of Reviews')"
      ]
     },
     "execution_count": 131,
     "metadata": {},
     "output_type": "execute_result"
    },
    {
     "data": {
      "image/png": "[encoded data removed]",
      "text/plain": [
       "<Figure size 1080x864 with 1 Axes>"
      ]
     },
     "metadata": {},
     "output_type": "display_data"
    }
   ],
   "source": [
    "coffee_clean.boxplot(by='Place_type',column='Reviews', figsize=(15,12))\n",
    "plt.xlabel('Coffee Shop Locations')\n",
    "plt.ylabel('Number of Reviews')\n",
    "plt.title('Number of Reviews Across Place type'"
   ]
  },
  {
   "cell_type": "markdown",
   "id": "187a61e7-0a92-4a4e-bcc5-27c2cdd15edb",
   "metadata": {},
   "source": []
  }
 ],
 "metadata": {
  "kernelspec": {
   "display_name": "Python 3 (ipykernel)",
   "language": "python",
   "name": "python3"
  },
  "language_info": {
   "codemirror_mode": {
    "name": "ipython",
    "version": 3
   },
   "file_extension": ".py",
   "mimetype": "text/x-python",
   "name": "python",
   "nbconvert_exporter": "python",
   "pygments_lexer": "ipython3",
   "version": "3.9.12"
  }
 },
 "nbformat": 4,
 "nbformat_minor": 5
}
